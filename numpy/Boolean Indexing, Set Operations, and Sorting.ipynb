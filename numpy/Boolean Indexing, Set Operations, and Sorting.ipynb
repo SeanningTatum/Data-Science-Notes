{
 "cells": [
  {
   "cell_type": "code",
   "execution_count": 1,
   "metadata": {},
   "outputs": [],
   "source": [
    "import numpy as np"
   ]
  },
  {
   "cell_type": "code",
   "execution_count": 27,
   "metadata": {},
   "outputs": [
    {
     "name": "stdout",
     "output_type": "stream",
     "text": [
      "[[ 0  1  2  3  4]\n",
      " [ 5  6  7  8  9]\n",
      " [10 11 12 13 14]\n",
      " [15 16 17 18 19]\n",
      " [20 21 22 23 24]]\n"
     ]
    }
   ],
   "source": [
    "X = np.arange(25).reshape(5,5)\n",
    "print(X)"
   ]
  },
  {
   "cell_type": "code",
   "execution_count": 8,
   "metadata": {},
   "outputs": [
    {
     "name": "stdout",
     "output_type": "stream",
     "text": [
      "[11 12 13 14 15 16 17 18 19 20 21 22 23 24]\n",
      "[0 1 2 3 4 5 6 7 8]\n",
      "[4 5 6 7]\n"
     ]
    }
   ],
   "source": [
    "print(X[X > 10])\n",
    "print(X[X < 9])\n",
    "print(X[(X > 3) & (X < 8)])"
   ]
  },
  {
   "cell_type": "code",
   "execution_count": 14,
   "metadata": {},
   "outputs": [
    {
     "name": "stdout",
     "output_type": "stream",
     "text": [
      "[[ 0  1  2  3  4]\n",
      " [ 5  6  7  8  9]\n",
      " [-1 -1 -1 -1 -1]\n",
      " [15 16 17 18 19]\n",
      " [20 21 22 23 24]]\n"
     ]
    }
   ],
   "source": [
    "# Assigning\n",
    "X[(X >= 10) & (X < 15)] = -1\n",
    "print(X)"
   ]
  },
  {
   "cell_type": "code",
   "execution_count": 16,
   "metadata": {},
   "outputs": [
    {
     "name": "stdout",
     "output_type": "stream",
     "text": [
      "[2 4]\n",
      "[1 3 5]\n",
      "[1 2 3 4 5 6 7 8]\n"
     ]
    }
   ],
   "source": [
    "# Set operations\n",
    "x = np.array([1,2,3,4,5])\n",
    "y = np.array([6,7,2,8,4])\n",
    "\n",
    "print(np.intersect1d(x, y))\n",
    "print(np.setdiff1d(x, y))\n",
    "print(np.union1d(x, y))"
   ]
  },
  {
   "cell_type": "code",
   "execution_count": 28,
   "metadata": {},
   "outputs": [
    {
     "name": "stdout",
     "output_type": "stream",
     "text": [
      "[3 3 9 8 2 5 5 8 9 3]\n"
     ]
    }
   ],
   "source": [
    "# Sorting\n",
    "x = np.random.randint(1, 10, size=(10,))\n",
    "print(x)"
   ]
  },
  {
   "cell_type": "code",
   "execution_count": 34,
   "metadata": {},
   "outputs": [
    {
     "name": "stdout",
     "output_type": "stream",
     "text": [
      "[2 3 3 3 5 5 8 8 9 9]\n",
      "[2 3 3 3 5 5 8 8 9 9]\n",
      "- - - - - - - - -\n",
      "[2 3 5 8 9]\n",
      "- - - - - - - - -\n",
      "[2 3 3 3 5 5 8 8 9 9]\n"
     ]
    }
   ],
   "source": [
    "# np.sort() creates new copy, while x.sort() mutates the data\n",
    "print(np.sort(x))\n",
    "print(x)\n",
    "print(\"- - - - - - - - -\")\n",
    "print(np.sort(np.unique(x)))\n",
    "print(\"- - - - - - - - -\")\n",
    "x.sort()\n",
    "print(x)"
   ]
  },
  {
   "cell_type": "code",
   "execution_count": 36,
   "metadata": {},
   "outputs": [
    {
     "name": "stdout",
     "output_type": "stream",
     "text": [
      "[[7 9 1 7 5]\n",
      " [8 5 2 2 7]\n",
      " [6 1 5 9 9]\n",
      " [3 7 5 6 9]\n",
      " [8 7 1 5 2]]\n",
      "- - - - - - - - -\n",
      "[[3 1 1 2 2]\n",
      " [6 5 1 5 5]\n",
      " [7 7 2 6 7]\n",
      " [8 7 5 7 9]\n",
      " [8 9 5 9 9]]\n",
      "- - - - - - - - -\n",
      "[[1 5 7 7 9]\n",
      " [2 2 5 7 8]\n",
      " [1 5 6 9 9]\n",
      " [3 5 6 7 9]\n",
      " [1 2 5 7 8]]\n"
     ]
    }
   ],
   "source": [
    "# Sorting rank 2 arrays\n",
    "X = np.random.randint(1, 10, size=(5, 5))\n",
    "print(X)\n",
    "print(\"- - - - - - - - -\")\n",
    "\n",
    "# Sorting by column\n",
    "print(np.sort(X, axis=0))\n",
    "print(\"- - - - - - - - -\")\n",
    "\n",
    "# Sorty by row\n",
    "print(np.sort(X, axis=1))\n"
   ]
  },
  {
   "cell_type": "code",
   "execution_count": null,
   "metadata": {},
   "outputs": [],
   "source": []
  }
 ],
 "metadata": {
  "kernelspec": {
   "display_name": "Python [conda env:Data-Science] *",
   "language": "python",
   "name": "conda-env-Data-Science-py"
  },
  "language_info": {
   "codemirror_mode": {
    "name": "ipython",
    "version": 3
   },
   "file_extension": ".py",
   "mimetype": "text/x-python",
   "name": "python",
   "nbconvert_exporter": "python",
   "pygments_lexer": "ipython3",
   "version": "3.8.5"
  }
 },
 "nbformat": 4,
 "nbformat_minor": 4
}
