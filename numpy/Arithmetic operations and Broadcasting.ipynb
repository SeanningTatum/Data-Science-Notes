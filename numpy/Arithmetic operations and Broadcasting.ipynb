{
 "cells": [
  {
   "cell_type": "code",
   "execution_count": 1,
   "metadata": {},
   "outputs": [],
   "source": [
    "import numpy as np"
   ]
  },
  {
   "cell_type": "code",
   "execution_count": 2,
   "metadata": {},
   "outputs": [
    {
     "name": "stdout",
     "output_type": "stream",
     "text": [
      "[1 2 3 4]\n",
      "[5 6 7 8]\n"
     ]
    }
   ],
   "source": [
    "x = np.array([1,2,3,4])\n",
    "y = np.array([5,6,7,8])\n",
    "\n",
    "print(x)\n",
    "print(y)"
   ]
  },
  {
   "cell_type": "code",
   "execution_count": 5,
   "metadata": {},
   "outputs": [
    {
     "name": "stdout",
     "output_type": "stream",
     "text": [
      "[ 6  8 10 12]\n",
      "[ 6  8 10 12]\n",
      "- - - - - - - - - - - - - - \n",
      "[-4 -4 -4 -4]\n",
      "[-4 -4 -4 -4]\n",
      "- - - - - - - - - - - - - - \n",
      "[ 5 12 21 32]\n",
      "[ 5 12 21 32]\n",
      "- - - - - - - - - - - - - - \n",
      "[0.2        0.33333333 0.42857143 0.5       ]\n",
      "[0.2        0.33333333 0.42857143 0.5       ]\n"
     ]
    }
   ],
   "source": [
    "print(x + y)\n",
    "print(np.add(x, y))\n",
    "\n",
    "print(\"- - - - - - - - - - - - - - \")\n",
    "\n",
    "print(x - y)\n",
    "print(np.subtract(x, y))\n",
    "\n",
    "print(\"- - - - - - - - - - - - - - \")\n",
    "\n",
    "print(x * y)\n",
    "print(np.multiply(x, y))\n",
    "\n",
    "print(\"- - - - - - - - - - - - - - \")\n",
    "\n",
    "print(x / y)\n",
    "print(np.divide(x, y))"
   ]
  },
  {
   "cell_type": "code",
   "execution_count": 6,
   "metadata": {},
   "outputs": [
    {
     "name": "stdout",
     "output_type": "stream",
     "text": [
      "[[1 2]\n",
      " [3 4]]\n",
      "- - - - - - - - - - - - - - \n",
      "[[5 6]\n",
      " [7 8]]\n"
     ]
    }
   ],
   "source": [
    "X = np.array([1,2,3,4]).reshape(2,2)\n",
    "Y = np.array([5,6,7, 8]).reshape(2,2)\n",
    "\n",
    "print(X)\n",
    "print(\"- - - - - - - - - - - - - - \")\n",
    "print(Y)"
   ]
  },
  {
   "cell_type": "code",
   "execution_count": 9,
   "metadata": {},
   "outputs": [
    {
     "name": "stdout",
     "output_type": "stream",
     "text": [
      "[[ 6  8]\n",
      " [10 12]]\n",
      "- - - - - - - - - - - - - - \n",
      "[[-4 -4]\n",
      " [-4 -4]]\n",
      "- - - - - - - - - - - - - - \n",
      "[[ 5 12]\n",
      " [21 32]]\n",
      "- - - - - - - - - - - - - - \n",
      "[[0.2        0.33333333]\n",
      " [0.42857143 0.5       ]]\n"
     ]
    }
   ],
   "source": [
    "print(X + Y)\n",
    "\n",
    "\n",
    "print(\"- - - - - - - - - - - - - - \")\n",
    "print(X - Y)\n",
    "\n",
    "\n",
    "print(\"- - - - - - - - - - - - - - \")\n",
    "print(X * Y)\n",
    "\n",
    "\n",
    "print(\"- - - - - - - - - - - - - - \")\n",
    "print(X / Y)\n"
   ]
  },
  {
   "cell_type": "code",
   "execution_count": 14,
   "metadata": {},
   "outputs": [
    {
     "name": "stdout",
     "output_type": "stream",
     "text": [
      "[1 2 3 4]\n",
      "- - - - - - - - - - - - - - \n",
      "[1.         1.41421356 1.73205081 2.        ]\n",
      "- - - - - - - - - - - - - - \n",
      "[ 2.71828183  7.3890561  20.08553692 54.59815003]\n",
      "- - - - - - - - - - - - - - \n",
      "[ 1  4  9 16]\n"
     ]
    }
   ],
   "source": [
    "# Get sqrt and exponential of each element\n",
    "print(x)\n",
    "\n",
    "print(\"- - - - - - - - - - - - - - \")\n",
    "print(np.sqrt(x))\n",
    "\n",
    "print(\"- - - - - - - - - - - - - - \")\n",
    "print(np.exp(x))\n",
    "\n",
    "print(\"- - - - - - - - - - - - - - \")\n",
    "print(np.power(x, 2))"
   ]
  },
  {
   "cell_type": "code",
   "execution_count": 16,
   "metadata": {},
   "outputs": [
    {
     "name": "stdout",
     "output_type": "stream",
     "text": [
      "[[1 2]\n",
      " [3 4]]\n",
      "average of all:  2.5\n",
      "average of columns: [2. 3.]\n",
      "average of rows: [1.5 3.5]\n"
     ]
    }
   ],
   "source": [
    "# Statistical Methods\n",
    "print(X)\n",
    "\n",
    "print('average of all: ', X.mean())\n",
    "\n",
    "print('average of columns:', X.mean(axis= 0))\n",
    "\n",
    "print('average of rows:', X.mean(axis= 1))"
   ]
  },
  {
   "cell_type": "code",
   "execution_count": 17,
   "metadata": {},
   "outputs": [
    {
     "name": "stdout",
     "output_type": "stream",
     "text": [
      "[[1 2]\n",
      " [3 4]]\n",
      "sum of all:  10\n",
      "sum of columns: [4 6]\n",
      "sum of rows: [3 7]\n"
     ]
    }
   ],
   "source": [
    "print(X)\n",
    "\n",
    "print('sum of all:', X.sum())\n",
    "\n",
    "print('sum of columns:', X.sum(axis= 0))\n",
    "\n",
    "print('sum of rows:', X.sum(axis= 1))"
   ]
  },
  {
   "cell_type": "code",
   "execution_count": 20,
   "metadata": {},
   "outputs": [
    {
     "name": "stdout",
     "output_type": "stream",
     "text": [
      "Standard Deviation: 1.118033988749895\n",
      "Median: 2.5\n",
      "Min: 1\n",
      "Max: 4\n"
     ]
    }
   ],
   "source": [
    "# Standard Deviation\n",
    "print(\"Standard Deviation:\", X.std())\n",
    "print(\"Median:\", np.median(X))\n",
    "print(\"Min:\", X.min())\n",
    "print(\"Max:\", X.max())"
   ]
  },
  {
   "cell_type": "code",
   "execution_count": 23,
   "metadata": {},
   "outputs": [
    {
     "name": "stdout",
     "output_type": "stream",
     "text": [
      "[[1 2]\n",
      " [3 4]]\n",
      "- - - - - - - - - - - - - - \n",
      "[[4 5]\n",
      " [6 7]]\n",
      "- - - - - - - - - - - - - - \n",
      "[[-2 -1]\n",
      " [ 0  1]]\n",
      "- - - - - - - - - - - - - - \n",
      "[[ 3  6]\n",
      " [ 9 12]]\n",
      "- - - - - - - - - - - - - - \n",
      "[[0.33333333 0.66666667]\n",
      " [1.         1.33333333]]\n"
     ]
    }
   ],
   "source": [
    "# Broadcasting\n",
    "# Behind the scenes numpy is created a rank 2 array with the same\n",
    "# shape in order to effieciently do arithmetic operations\n",
    "\n",
    "print(X)\n",
    "print(\"- - - - - - - - - - - - - - \")\n",
    "\n",
    "print(X + 3)\n",
    "print(\"- - - - - - - - - - - - - - \")\n",
    "\n",
    "print(X - 3)\n",
    "print(\"- - - - - - - - - - - - - - \")\n",
    "\n",
    "print(X * 3)\n",
    "print(\"- - - - - - - - - - - - - - \")\n",
    "\n",
    "print(X / 3)"
   ]
  },
  {
   "cell_type": "code",
   "execution_count": 30,
   "metadata": {},
   "outputs": [
    {
     "name": "stdout",
     "output_type": "stream",
     "text": [
      "Y: [[ 0  1  2]\n",
      " [ 3  4  5]\n",
      " [ 6  7  8]\n",
      " [ 9 10 11]]\n",
      "x: [0 1 2]\n",
      "- - - - - - - - - - - - - - \n",
      "[[ 0  2  4]\n",
      " [ 3  5  7]\n",
      " [ 6  8 10]\n",
      " [ 9 11 13]]\n"
     ]
    }
   ],
   "source": [
    "# Broadcasting pt.2\n",
    "# Can be broadcasted if number if size of row = x\n",
    "\n",
    "Y = np.arange(12).reshape(4,3)\n",
    "x = np.arange(3)\n",
    "\n",
    "print(\"Y:\", Y)\n",
    "print(\"x:\", x)\n",
    "\n",
    "\n",
    "print(\"- - - - - - - - - - - - - -\\n\")\n",
    "print(\"Y + x:\", Y + x)"
   ]
  },
  {
   "cell_type": "code",
   "execution_count": 38,
   "metadata": {},
   "outputs": [
    {
     "name": "stdout",
     "output_type": "stream",
     "text": [
      "Y: [[ 0  1  2]\n",
      " [ 3  4  5]\n",
      " [ 6  7  8]\n",
      " [ 9 10 11]]\n",
      "z: [[0]\n",
      " [1]\n",
      " [2]\n",
      " [3]]\n",
      "\n",
      "- - - - - - - - - - - - - -\n",
      "\n",
      "z + Y [[ 0  1  2]\n",
      " [ 4  5  6]\n",
      " [ 8  9 10]\n",
      " [12 13 14]]\n"
     ]
    }
   ],
   "source": [
    "# Broadcasting pt.3 \n",
    "# Can be broad casted if number of z.columns == Y.columns\n",
    "\n",
    "Y = np.arange(12).reshape(4, 3)\n",
    "z = np.arange(4).reshape(4, 1)\n",
    "\n",
    "print(\"Y:\", Y)\n",
    "print(\"z:\", z)\n",
    "print(\"\\n- - - - - - - - - - - - - -\\n\")\n",
    "print(\"z + Y\", z + Y)"
   ]
  },
  {
   "cell_type": "code",
   "execution_count": null,
   "metadata": {},
   "outputs": [],
   "source": []
  }
 ],
 "metadata": {
  "kernelspec": {
   "display_name": "Python [conda env:Data-Science] *",
   "language": "python",
   "name": "conda-env-Data-Science-py"
  },
  "language_info": {
   "codemirror_mode": {
    "name": "ipython",
    "version": 3
   },
   "file_extension": ".py",
   "mimetype": "text/x-python",
   "name": "python",
   "nbconvert_exporter": "python",
   "pygments_lexer": "ipython3",
   "version": "3.8.5"
  }
 },
 "nbformat": 4,
 "nbformat_minor": 4
}
